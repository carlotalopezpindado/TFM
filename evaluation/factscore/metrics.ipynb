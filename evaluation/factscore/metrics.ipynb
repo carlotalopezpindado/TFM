{
 "cells": [
  {
   "cell_type": "code",
   "execution_count": 1,
   "metadata": {},
   "outputs": [],
   "source": [
    "import pandas as pd\n",
    "import matplotlib.pyplot as plt\n",
    "import numpy as np"
   ]
  },
  {
   "cell_type": "code",
   "execution_count": null,
   "metadata": {},
   "outputs": [],
   "source": [
    "df_edu = pd.read_csv('factscore/fs_edu.csv')\n",
    "df_adm = pd.read_csv('factscore/fs_adm.csv')\n",
    "df_leg = pd.read_csv('factscore/fs_leg.csv')"
   ]
  },
  {
   "cell_type": "code",
   "execution_count": null,
   "metadata": {},
   "outputs": [],
   "source": [
    "questions = list(range(1, 101))\n",
    "fs_edu = df_edu['factscore']  \n",
    "fs_adm = df_adm['factscore']  \n",
    "fs_leg = df_leg['factscore']  \n",
    "\n",
    "plt.figure(figsize=(14, 10))\n",
    "\n",
    "plt.plot(questions, fs_edu, label=\"Education and Culture\")\n",
    "plt.plot(questions, fs_adm, label=\"Public Administration and Procedures\")\n",
    "plt.plot(questions, fs_leg, label=\"Legislation and Regulation\")\n",
    "\n",
    "plt.xlabel(\"Question ID\")\n",
    "plt.ylabel(\"FActScore\")\n",
    "plt.title(\"FActScore for Each Question\")\n",
    "plt.legend()\n",
    "plt.grid(True)\n",
    "plt.tight_layout()\n",
    "plt.show()"
   ]
  },
  {
   "cell_type": "code",
   "execution_count": null,
   "metadata": {},
   "outputs": [],
   "source": [
    "np.mean(fs_edu)"
   ]
  },
  {
   "cell_type": "code",
   "execution_count": null,
   "metadata": {},
   "outputs": [],
   "source": [
    "np.mean(fs_adm)"
   ]
  },
  {
   "cell_type": "code",
   "execution_count": null,
   "metadata": {},
   "outputs": [],
   "source": [
    "np.mean(fs_leg)"
   ]
  }
 ],
 "metadata": {
  "kernelspec": {
   "display_name": "Python 3",
   "language": "python",
   "name": "python3"
  },
  "language_info": {
   "codemirror_mode": {
    "name": "ipython",
    "version": 3
   },
   "file_extension": ".py",
   "mimetype": "text/x-python",
   "name": "python",
   "nbconvert_exporter": "python",
   "pygments_lexer": "ipython3",
   "version": "3.10.7"
  }
 },
 "nbformat": 4,
 "nbformat_minor": 2
}
