{
 "cells": [
  {
   "cell_type": "code",
   "execution_count": 1,
   "metadata": {},
   "outputs": [
    {
     "name": "stderr",
     "output_type": "stream",
     "text": [
      "c:\\Program Files\\Python312\\Lib\\site-packages\\tqdm\\auto.py:21: TqdmWarning: IProgress not found. Please update jupyter and ipywidgets. See https://ipywidgets.readthedocs.io/en/stable/user_install.html\n",
      "  from .autonotebook import tqdm as notebook_tqdm\n"
     ]
    }
   ],
   "source": [
    "from llama_index.core.response.notebook_utils import display_response\n",
    "from llama_index.core import VectorStoreIndex\n",
    "from llama_index.vector_stores.postgres import PGVectorStore"
   ]
  },
  {
   "cell_type": "code",
   "execution_count": null,
   "metadata": {},
   "outputs": [],
   "source": [
    "vector_store_leg = PGVectorStore.from_params(database=\"vector_db\", host=\"localhost\", password=\"password\", port=5432, user=\"postgres\", table_name=\"regulación_y_legislación\", embed_dim=768)\n",
    "index_leg = VectorStoreIndex.from_vector_store(vector_store=vector_store_leg)\n",
    "qe_leg = index_leg.as_query_engine(response_mode=\"compact\", vector_store_query_mode=\"hybrid\")"
   ]
  },
  {
   "cell_type": "code",
   "execution_count": null,
   "metadata": {},
   "outputs": [],
   "source": [
    "vector_store_edu = PGVectorStore.from_params(database=\"vector_db\", host=\"localhost\", password=\"password\", port=5432, user=\"postgres\", table_name=\"educación_y_cultura\", embed_dim=768)\n",
    "index_edu = VectorStoreIndex.from_vector_store(vector_store=vector_store_edu)\n",
    "qe_edu = index_edu.as_query_engine(response_mode=\"compact\", vector_store_query_mode=\"hybrid\")"
   ]
  },
  {
   "cell_type": "code",
   "execution_count": null,
   "metadata": {},
   "outputs": [],
   "source": [
    "vector_store_adm = PGVectorStore.from_params(database=\"vector_db\", host=\"localhost\", password=\"password\", port=5432, user=\"postgres\", table_name=\"administración_pública_y_procedimientos\", embed_dim=768)\n",
    "index_adm = VectorStoreIndex.from_vector_store(vector_store=vector_store_adm)\n",
    "qe_adm = index_adm.as_query_engine(response_mode=\"compact\", vector_store_query_mode=\"hybrid\")"
   ]
  },
  {
   "cell_type": "markdown",
   "metadata": {},
   "source": [
    "### Usando el índice de legislación y regulación"
   ]
  },
  {
   "cell_type": "code",
   "execution_count": 5,
   "metadata": {},
   "outputs": [
    {
     "name": "stderr",
     "output_type": "stream",
     "text": [
      "Setting `pad_token_id` to `eos_token_id`:2 for open-end generation.\n",
      "c:\\Program Files\\Python312\\Lib\\site-packages\\transformers\\models\\mixtral\\modeling_mixtral.py:765: UserWarning: 1Torch was not compiled with flash attention. (Triggered internally at ..\\aten\\src\\ATen\\native\\transformers\\cuda\\sdp_utils.cpp:263.)\n",
      "  attn_output = torch.nn.functional.scaled_dot_product_attention(\n",
      "Setting `pad_token_id` to `eos_token_id`:2 for open-end generation.\n"
     ]
    },
    {
     "data": {
      "text/markdown": [
       "**`Final Response:`** El Decreto Legislativo 3/2000 del Gobierno de Aragón tiene como propósito principal la aprobación del texto refundido de la Ley Electoral de la Comunidad Autónoma de Aragón, con el objetivo de recopilar y sistematizar las normas electorales vigentes en la región, armonizándolas y modernizándolas para garantizar un proceso electoral justo, transparente y eficaz. Este decreto se dicta de conformidad con el artículo 18 y la disposición transitoria tercera del Estatuto aprobado por Ley Orgánica 8/1982, de 10 de agosto, y ha sido modificado en varias ocasiones desde su publicación inicial en 1987. Las modificaciones más recientes incluyen la Ley 3/2023, de 9 de febrero, que ha modificado los artículos 11 y 13, y la Ley 13/1997, de 15 de diciembre, que ha añadido los artículos 5 bis, 5 ter y 5 quater. Además, el decreto establece disposiciones adicionales y transitorias para facilitar su aplicación y garantizar una transición suave hacia el nuevo marco legal."
      ],
      "text/plain": [
       "<IPython.core.display.Markdown object>"
      ]
     },
     "metadata": {},
     "output_type": "display_data"
    }
   ],
   "source": [
    "response = qe_leg.query(\"¿Cuál es el propósito principal del Decreto Legislativo 3/2000 del Gobierno de Aragón?\")\n",
    "display_response(response)"
   ]
  },
  {
   "cell_type": "code",
   "execution_count": 6,
   "metadata": {},
   "outputs": [
    {
     "name": "stderr",
     "output_type": "stream",
     "text": [
      "Setting `pad_token_id` to `eos_token_id`:2 for open-end generation.\n",
      "Setting `pad_token_id` to `eos_token_id`:2 for open-end generation.\n",
      "Setting `pad_token_id` to `eos_token_id`:2 for open-end generation.\n",
      "Setting `pad_token_id` to `eos_token_id`:2 for open-end generation.\n",
      "Setting `pad_token_id` to `eos_token_id`:2 for open-end generation.\n"
     ]
    },
    {
     "data": {
      "text/markdown": [
       "**`Final Response:`** La última reforma del Código Penal no hace referencia específica al delito de fraude online. Sin embargo, la Ley Orgánica 6/2018, de 5 de diciembre, de Protección de Datos Personales y garantía de los derechos digitales, modifica el Código Penal en relación al tratamiento de datos personales sin el consentimiento del afectado.\n",
       "\n",
       "En concreto, el artículo 197 bis establece penas para el acceso y alteración de datos personales sin el consentimiento del afectado, especialmente cuando se trate de datos especialmente protegidos. La pena será de prisión de seis meses a dos años o multa de seis a doce meses.\n",
       "\n",
       "Por lo tanto, en el contexto de la protección de datos personales, la última reforma del Código Penal establece penas para el delito de fraude online.\n",
       "\n",
       "Referencia:\n",
       "\n",
       "* Ley Orgánica 6/2018, de 5 de diciembre, de Protección de Datos Personales y garantía de los derechos digitales.\n",
       "* Ley Orgánica 10/1995, de 23 de noviembre, del Código Penal."
      ],
      "text/plain": [
       "<IPython.core.display.Markdown object>"
      ]
     },
     "metadata": {},
     "output_type": "display_data"
    }
   ],
   "source": [
    "response = qe_leg.query(\"¿Qué establece la última reforma del Código Penal respecto al delito de fraude online?\")\n",
    "display_response(response)"
   ]
  },
  {
   "cell_type": "markdown",
   "metadata": {},
   "source": [
    "### Usando el índice de educación y cultura"
   ]
  },
  {
   "cell_type": "markdown",
   "metadata": {},
   "source": [
    "#### Primer intento"
   ]
  },
  {
   "cell_type": "code",
   "execution_count": 5,
   "metadata": {},
   "outputs": [
    {
     "name": "stderr",
     "output_type": "stream",
     "text": [
      "Setting `pad_token_id` to `eos_token_id`:2 for open-end generation.\n",
      "c:\\Program Files\\Python312\\Lib\\site-packages\\transformers\\models\\mixtral\\modeling_mixtral.py:765: UserWarning: 1Torch was not compiled with flash attention. (Triggered internally at ..\\aten\\src\\ATen\\native\\transformers\\cuda\\sdp_utils.cpp:263.)\n",
      "  attn_output = torch.nn.functional.scaled_dot_product_attention(\n",
      "Setting `pad_token_id` to `eos_token_id`:2 for open-end generation.\n",
      "Setting `pad_token_id` to `eos_token_id`:2 for open-end generation.\n",
      "Setting `pad_token_id` to `eos_token_id`:2 for open-end generation.\n",
      "Setting `pad_token_id` to `eos_token_id`:2 for open-end generation.\n"
     ]
    },
    {
     "data": {
      "text/markdown": [
       "**`Final Response:`** To access study grants for the next academic year, you should consider the following requirements:\n",
       "\n",
       "1. Enrollment: Students must enroll in a full course to be eligible for grants or scholarships in these studies.\n",
       "2. Coursework load passed: First-year students must prove they have obtained 5.50 points in the second year of high school, the entrance exam, or the corresponding course. Second-year students and above, organized by subjects, must prove they passed at least one more subject than they failed in the previous year. Second-year students and above, organized by modules, must prove they passed at least 85% of the total hours of the course in the previous year.\n",
       "3. Course repetition: Students repeating a course partially or completely will not be granted scholarships, except for students enrolled in non-presential studies or those using specific partial or adult matriculation offers, who can obtain scholarships for one more year.\n",
       "4. Age: Students must be at least 3 years old by December 31 of the year the grant is requested, and the maximum age is 25 years old by October 1 of the year of the request.\n",
       "5. Parents' status: Retired parents or widowed spouses of active producers can request grants for their school-age children under the same conditions as specified in the regulations.\n",
       "6. Application period: Although not specified in the information provided, there is usually an application period for study grants, so it is important to pay attention to the opening and closing dates.\n",
       "\n",
       "It is essential to consult the specific and updated regulations on the website of the Ministry of Education and Vocational Training or the corresponding autonomous community, as the provided information corresponds to previous regulations and may have undergone modifications.\n",
       "\n",
       "Regarding the specific context provided, consider the following additional points:\n",
       "\n",
       "1. Application process: Applications must be submitted in September of each year, and the deadline is October 31. Applications must be submitted on a form provided by the Social Affairs Service, and any deficiencies must be corrected before the application is considered complete.\n",
       "2. Certification: For groups D and E, applicants must present the academic enrollment certificate for the course.\n",
       "3. Grant amount: The grant amount for 2005 is as follows:\n",
       "\n",
       "Group | Level | Age | Euros\n",
       "--- | --- | --- | ---\n",
       "A | Education Infantil | 3, 4, and 5 years | 18,529\n",
       "B | Education Primaria | 6, 7, 8, 9, 10, and 11 | Not specified in the context\n",
       "C | ESO | 12 | 19,957\n",
       "D | Bachillerato | 16 | 20,944\n",
       "E | FP Grado Medio | 16 | 20,944\n",
       "F | FP Grado Superior | 18 | 20,944\n",
       "\n",
       "The grant amount includes the following:\n",
       "\n",
       "* 12 months of regular salary\n",
       "* 2 months of extraordinary bonuses\n",
       "* Minimum guaranteed salary (14 months)\n",
       "* 40,00 euros for school materials\n",
       "\n",
       "The total minimum annual guaranteed amount is:\n",
       "\n",
       "* Group A: 18,529 euros\n",
       "* Group B: Not specified in the context\n",
       "* Group C: 19,957 euros\n",
       "* Group D: 20,944 euros\n",
       "* Group E: 20,944 euros\n",
       "* Group F: 20,944 euros\n",
       "\n",
       "Please note that the provided context refers to the regulations for 2005, and the amounts may have changed. Consult the official sources for the most up-to-date information."
      ],
      "text/plain": [
       "<IPython.core.display.Markdown object>"
      ]
     },
     "metadata": {},
     "output_type": "display_data"
    }
   ],
   "source": [
    "response = qe_edu.query( \"¿Cómo se puede acceder a las becas de estudio para el próximo curso académico?\")\n",
    "display_response(response)"
   ]
  },
  {
   "cell_type": "code",
   "execution_count": 6,
   "metadata": {},
   "outputs": [
    {
     "name": "stderr",
     "output_type": "stream",
     "text": [
      "Setting `pad_token_id` to `eos_token_id`:2 for open-end generation.\n",
      "Setting `pad_token_id` to `eos_token_id`:2 for open-end generation.\n",
      "Setting `pad_token_id` to `eos_token_id`:2 for open-end generation.\n",
      "Setting `pad_token_id` to `eos_token_id`:2 for open-end generation.\n",
      "Setting `pad_token_id` to `eos_token_id`:2 for open-end generation.\n"
     ]
    },
    {
     "data": {
      "text/markdown": [
       "**`Final Response:`** Based on the additional context provided, I will refine the original answer to better address the query related to the financing of cultural projects in Spain.\n",
       "\n",
       "The context mentions that the query is about the financing of cultural projects, specifically those related to coordinating or supporting research, such as networks, exchanges, studies, conferences, and similar activities.\n",
       "\n",
       "In Spain, cultural projects can receive funding from various public and private sources, including the Ministry of Culture and Sports, autonomous communities, local governments, and various foundations and sponsors. Each entity may have its own specific criteria and procedures for evaluating and selecting projects for funding.\n",
       "\n",
       "Regarding the funding of cultural projects related to research coordination and support, the Ministry of Culture and Sports, through the Instituto de la Cinematografía y de las Artes Audiovisuales (ICAA), offers various programs and grants to support cultural projects in the audiovisual sector. These programs may include funding for research, development, and innovation projects, as well as for the training and mobility of researchers.\n",
       "\n",
       "For instance, the ICAA offers the Audiovisual Research Program (Programa de Investigación Audiovisual), which supports research projects focused on the development of new technologies, methodologies, or tools for the audiovisual sector. The program also encourages the participation of researchers from other disciplines, such as social sciences or humanities, to contribute to the interdisciplinary study of audiovisual culture.\n",
       "\n",
       "The ICAA's funding criteria typically consider factors such as the project's relevance to the audiovisual sector, its innovative nature, the qualifications and experience of the research team, and the feasibility of the project's objectives and methodology.\n",
       "\n",
       "In summary, the financing of cultural projects in Spain, including those related to research coordination and support, depends on the entity responsible for the funding. The Ministry of Culture and Sports, through the ICAA, offers various programs and grants to support cultural projects in the audiovisual sector, including research, development, and innovation projects. The specific criteria and procedures for evaluating and selecting cultural projects for funding in Spain will depend on the entity responsible for the funding and may vary depending on the nature and scope of the project.\n",
       "\n",
       "However, the provided context refers to the European Union's Horizon 2020 program, which is a significant source of funding for research and innovation projects in various fields, including culture. Horizon 2020 offers funding opportunities for cultural projects through its Societal Challenges and Industrial Leadership pillars. For instance, the program supports projects focused on cultural heritage, creative industries, and social innovation.\n",
       "\n",
       "To be eligible for Horizon 2020 funding, cultural projects must meet specific criteria, such as:\n",
       "\n",
       "1. Relevance to the program's objectives and priorities.\n",
       "2. Scientific, technological, economic, or societal impact.\n",
       "3. Quality and efficiency of the implementation plan.\n",
       "4. Excellence of the project team.\n",
       "5. Appropriate budget allocation and cost-effectiveness.\n",
       "\n",
       "Additionally, Horizon 2020 encourages the participation of small and medium-sized enterprises (SMEs), researchers, and organizations from less developed regions to promote inclusive growth and innovation.\n",
       "\n",
       "In conclusion, cultural projects in Spain can receive funding from various public and private sources, including the Ministry of Culture and Sports and the European Union's Horizon 2020 program. The specific criteria and procedures for evaluating and selecting cultural projects for funding will depend on the entity responsible for the funding and may vary depending on the nature and scope of the project."
      ],
      "text/plain": [
       "<IPython.core.display.Markdown object>"
      ]
     },
     "metadata": {},
     "output_type": "display_data"
    }
   ],
   "source": [
    "response = qe_edu.query( \"¿Cuál es el marco actual para la financiación de proyectos culturales por parte del gobierno español, y qué criterios se utilizan para determinar la elegibilidad y la asignación de fondos?\")\n",
    "display_response(response)"
   ]
  },
  {
   "cell_type": "markdown",
   "metadata": {},
   "source": [
    "#### Segundo intento"
   ]
  },
  {
   "cell_type": "code",
   "execution_count": 5,
   "metadata": {},
   "outputs": [
    {
     "name": "stderr",
     "output_type": "stream",
     "text": [
      "Setting `pad_token_id` to `eos_token_id`:2 for open-end generation.\n",
      "c:\\Program Files\\Python312\\Lib\\site-packages\\transformers\\models\\mixtral\\modeling_mixtral.py:765: UserWarning: 1Torch was not compiled with flash attention. (Triggered internally at ..\\aten\\src\\ATen\\native\\transformers\\cuda\\sdp_utils.cpp:263.)\n",
      "  attn_output = torch.nn.functional.scaled_dot_product_attention(\n",
      "Setting `pad_token_id` to `eos_token_id`:2 for open-end generation.\n",
      "Setting `pad_token_id` to `eos_token_id`:2 for open-end generation.\n",
      "Setting `pad_token_id` to `eos_token_id`:2 for open-end generation.\n",
      "Setting `pad_token_id` to `eos_token_id`:2 for open-end generation.\n",
      "Setting `pad_token_id` to `eos_token_id`:2 for open-end generation.\n",
      "Setting `pad_token_id` to `eos_token_id`:2 for open-end generation.\n",
      "Setting `pad_token_id` to `eos_token_id`:2 for open-end generation.\n",
      "Setting `pad_token_id` to `eos_token_id`:2 for open-end generation.\n",
      "Setting `pad_token_id` to `eos_token_id`:2 for open-end generation.\n",
      "Setting `pad_token_id` to `eos_token_id`:2 for open-end generation.\n",
      "Setting `pad_token_id` to `eos_token_id`:2 for open-end generation.\n",
      "Setting `pad_token_id` to `eos_token_id`:2 for open-end generation.\n",
      "Setting `pad_token_id` to `eos_token_id`:2 for open-end generation.\n",
      "Setting `pad_token_id` to `eos_token_id`:2 for open-end generation.\n",
      "Setting `pad_token_id` to `eos_token_id`:2 for open-end generation.\n",
      "Setting `pad_token_id` to `eos_token_id`:2 for open-end generation.\n",
      "Setting `pad_token_id` to `eos_token_id`:2 for open-end generation.\n",
      "Setting `pad_token_id` to `eos_token_id`:2 for open-end generation.\n",
      "Setting `pad_token_id` to `eos_token_id`:2 for open-end generation.\n",
      "Setting `pad_token_id` to `eos_token_id`:2 for open-end generation.\n",
      "Setting `pad_token_id` to `eos_token_id`:2 for open-end generation.\n",
      "Setting `pad_token_id` to `eos_token_id`:2 for open-end generation.\n",
      "Setting `pad_token_id` to `eos_token_id`:2 for open-end generation.\n"
     ]
    },
    {
     "data": {
      "text/markdown": [
       "**`Final Response:`** Para acceder a las becas de estudio para el próximo curso académico, sigue los pasos que te proporcioné en mi respuesta anterior. Además, quiero añadir que, de acuerdo con la Orden EDU/1109/2019, de 19 de agosto, por la que se convocan becas y ayudas al estudio correspondientes al curso académico 2019-2020, los umbrales de renta y patrimonio familiar se actualizan cada año.\n",
       "\n",
       "En tu caso, como solicitante de la beca, debes tener en cuenta que tu renta familiar (según el artículo 2.1 de la Orden EDU/1109/2019) no debe superar los 2.928,00 euros anuales. Si tu unidad familiar está formada por más de dos miembros, se aplicará una reducción del 15% a la suma de las rentas de los miembros de la unidad familiar, excluyendo a la persona solicitante y su cónyuge o pareja de hecho.\n",
       "\n",
       "Por lo tanto, asegúrate de cumplir con los límites de renta y patrimonio familiar antes de presentar tu solicitud de beca.\n",
       "\n",
       "Referencia:\n",
       "\n",
       "- BOE (Boletín Oficial del Estado) de la Orden EDU/1109/2019, de 19 de agosto, por la que se convocan becas y ayudas al estudio correspondientes al curso académico 2019-2020."
      ],
      "text/plain": [
       "<IPython.core.display.Markdown object>"
      ]
     },
     "metadata": {},
     "output_type": "display_data"
    }
   ],
   "source": [
    "response = qe_edu.query( \"¿Cómo se puede acceder a las becas de estudio para el próximo curso académico?\")\n",
    "display_response(response)"
   ]
  },
  {
   "cell_type": "code",
   "execution_count": 6,
   "metadata": {},
   "outputs": [
    {
     "name": "stderr",
     "output_type": "stream",
     "text": [
      "Setting `pad_token_id` to `eos_token_id`:2 for open-end generation.\n",
      "Setting `pad_token_id` to `eos_token_id`:2 for open-end generation.\n",
      "Setting `pad_token_id` to `eos_token_id`:2 for open-end generation.\n",
      "Setting `pad_token_id` to `eos_token_id`:2 for open-end generation.\n",
      "Setting `pad_token_id` to `eos_token_id`:2 for open-end generation.\n",
      "Setting `pad_token_id` to `eos_token_id`:2 for open-end generation.\n",
      "Setting `pad_token_id` to `eos_token_id`:2 for open-end generation.\n",
      "Setting `pad_token_id` to `eos_token_id`:2 for open-end generation.\n",
      "Setting `pad_token_id` to `eos_token_id`:2 for open-end generation.\n"
     ]
    },
    {
     "data": {
      "text/markdown": [
       "**`Final Response:`** La financiación de proyectos culturales por parte del gobierno español se rige actualmente por los principios y directrices establecidos en documentos como los Principios del Comité de Ayuda al Desarrollo (CAD) para la valoración de los programas (1988), las Directrices del CAD para la financiación conjunta y la ayuda oficial al desarrollo ligada y parcialmente no ligada (1987), y las Buenas prácticas de contratación para la ayuda oficial al desarrollo (1986).\n",
       "\n",
       "En cuanto a los criterios específicos para la financiación de proyectos culturales en España, el BOE no proporciona información detallada en los documentos mencionados. Sin embargo, el Ministerio de Cultura y Deporte de España ofrece información adicional sobre los criterios y procedimientos de financiación de proyectos culturales.\n",
       "\n",
       "El Ministerio de Cultura y Deporte establece los siguientes criterios generales para la financiación de proyectos culturales:\n",
       "\n",
       "1. Interés cultural: el proyecto debe contribuir al desarrollo y promoción de la cultura española, tanto a nivel nacional como internacional.\n",
       "2. Viabilidad técnica y económica: el proyecto debe ser viable desde el punto de vista técnico y económico, y debe presentar un presupuesto detallado y realista.\n",
       "3. Impacto y repercusión: el proyecto debe tener un impacto y una repercusión significativos en el ámbito cultural, ya sea a nivel local, regional o nacional.\n",
       "4. Coherencia con las políticas culturales del gobierno: el proyecto debe ser coherente con las políticas culturales del gobierno y debe contribuir a alcanzar los objetivos establecidos en el Plan Estratégico de Cultura.\n",
       "\n",
       "Además, el Ministerio de Cultura y Deporte también tiene en cuenta otros factores, como la experiencia y la capacidad del equipo responsable del proyecto, la participación de otras instituciones y organismos, y el grado de innovación y originalidad del proyecto.\n",
       "\n",
       "Es importante destacar que, en el caso de proyectos culturales en las comunidades autónomas y en las ciudades autónomas de Ceuta y Melilla, así como en las ciudades con estatuto especial y en las regiones ultraperiféricas, podrá concederse, cuando sea posible y adecuado, una contribución suplementaria de los Fondos Estructurales.\n",
       "\n",
       "Por lo tanto, para obtener información más específica sobre los criterios y procedimientos de financiación de proyectos culturales en España, se recomienda consultar los recursos adicionales proporcionados por el Ministerio de Cultura y Deporte.\n",
       "\n",
       "Referencias:\n",
       "\n",
       "* Comité de Ayuda al Desarrollo (CAD), Principios del CAD para la valoración de los programas, 1988.\n",
       "* Comité de Ayuda al Desarrollo (CAD), Directrices del CAD para la financiación conjunta y la ayuda oficial al desarrollo ligada y parcialmente no ligada, 1987.\n",
       "* Comité de Ayuda al Desarrollo (CAD), Buenas prácticas de contratación para la ayuda oficial al desarrollo, 1986.\n",
       "* Boletín Oficial del Estado (BOE), Acuerdo de cooperación entre España y otro país en materia de cultura.\n",
       "* Ministerio de Cultura y Deporte de España, Criterios y procedimientos de financiación de proyectos culturales."
      ],
      "text/plain": [
       "<IPython.core.display.Markdown object>"
      ]
     },
     "metadata": {},
     "output_type": "display_data"
    }
   ],
   "source": [
    "response = qe_edu.query( \"¿Cuál es el marco actual para la financiación de proyectos culturales por parte del gobierno español, y qué criterios se utilizan para determinar la elegibilidad y la asignación de fondos?\")\n",
    "display_response(response)"
   ]
  },
  {
   "cell_type": "markdown",
   "metadata": {},
   "source": [
    "### Usando el índice de administración pública y procedimientos"
   ]
  },
  {
   "cell_type": "code",
   "execution_count": 5,
   "metadata": {},
   "outputs": [
    {
     "name": "stderr",
     "output_type": "stream",
     "text": [
      "Setting `pad_token_id` to `eos_token_id`:2 for open-end generation.\n",
      "c:\\Program Files\\Python312\\Lib\\site-packages\\transformers\\models\\mixtral\\modeling_mixtral.py:765: UserWarning: 1Torch was not compiled with flash attention. (Triggered internally at ..\\aten\\src\\ATen\\native\\transformers\\cuda\\sdp_utils.cpp:263.)\n",
      "  attn_output = torch.nn.functional.scaled_dot_product_attention(\n",
      "Setting `pad_token_id` to `eos_token_id`:2 for open-end generation.\n",
      "Setting `pad_token_id` to `eos_token_id`:2 for open-end generation.\n",
      "Setting `pad_token_id` to `eos_token_id`:2 for open-end generation.\n",
      "Setting `pad_token_id` to `eos_token_id`:2 for open-end generation.\n"
     ]
    },
    {
     "data": {
      "text/markdown": [
       "**`Final Response:`** Para solicitar una subvención para proyectos de investigación en el ámbito de la salud pública en España, relacionados con el Plan Nacional sobre Drogas, de acuerdo con la información proporcionada en los documentos, se deben seguir los siguientes procedimientos específicos, además de los procedimientos generales mencionados anteriormente:\n",
       "\n",
       "1. Verificar la convocatoria: Las convocatorias se publican en el Boletín Oficial del Estado (BOE) y tienen un plazo de presentación de solicitudes de un mes a partir del día siguiente a su publicación.\n",
       "\n",
       "2. Presentar la solicitud en cuatro ejemplares completos y dirigirla a la Delegación del Gobierno para el Plan Nacional sobre Drogas. La documentación se podrá presentar en los Registros y oficinas previstas en el artículo 38.4 de la Ley 30/1992 de 26 de noviembre, de Régimen Jurídico de las Administraciones Públicas y del Procedimiento Administrativo Común, modificada por la Ley 4/1999, de 13 de enero.\n",
       "\n",
       "3. Adjuntar la siguiente documentación:\n",
       "   a. Instancia conforme al modelo que se incorpora como Anexo I de la presente Orden.\n",
       "   b. Acreditación de la representación legal de quien suscribe la instancia o poder suficiente para obligarse en nombre de la entidad. Además, se acompañará fotocopia compulsada del Documento Nacional de Identidad del solicitante.\n",
       "   c. Las entidades a que se refiere la letra b) del apartado segundo presentarán estatutos de la entidad y documento que acredite la constitución legal de la misma.\n",
       "   d. Copia de la tarjeta de identificación fiscal.\n",
       "   e. Declaración del representante legal de la entidad de que ésta se encuentra al corriente en el cumplimiento de sus obligaciones tributarias y con la Seguridad Social.\n",
       "\n",
       "4. Si alguna de las solicitudes no acompaña algún documento de los exigidos o alguno de los extremos previstos en el artículo 70.1 de la Ley 30/1992, se requerirá a la entidad que la hubiera formulado para que, en un plazo no superior a diez días, subsane las deficiencias u omisiones advertidas, con apercibimiento de que, si así no lo hiciere, se entenderá por desistido de su petición, previa resolución que deberá ser dictada en los términos previstos en el artículo 42 del la Ley 30/1992 antes citada.\n",
       "\n",
       "Para más detalles, consulte la Orden completa en el BOE (Boletín Oficial del Estado) o en el sitio web de la Delegación del Gobierno para el Plan Nacional sobre Drogas."
      ],
      "text/plain": [
       "<IPython.core.display.Markdown object>"
      ]
     },
     "metadata": {},
     "output_type": "display_data"
    }
   ],
   "source": [
    "response = qe_adm.query(\"¿Qué procedimientos deben seguirse para solicitar una subvención para proyectos de investigación en el ámbito de la salud pública en España?\")\n",
    "display_response(response)"
   ]
  },
  {
   "cell_type": "code",
   "execution_count": 6,
   "metadata": {},
   "outputs": [
    {
     "name": "stderr",
     "output_type": "stream",
     "text": [
      "Setting `pad_token_id` to `eos_token_id`:2 for open-end generation.\n",
      "Setting `pad_token_id` to `eos_token_id`:2 for open-end generation.\n",
      "Setting `pad_token_id` to `eos_token_id`:2 for open-end generation.\n",
      "Setting `pad_token_id` to `eos_token_id`:2 for open-end generation.\n",
      "Setting `pad_token_id` to `eos_token_id`:2 for open-end generation.\n",
      "Setting `pad_token_id` to `eos_token_id`:2 for open-end generation.\n"
     ]
    },
    {
     "data": {
      "text/markdown": [
       "**`Final Response:`** Para renovar el Documento Nacional de Identidad (DNI) en España, se deben cumplir los siguientes requisitos:\n",
       "\n",
       "1. **Presencia física**: La renovación del DNI debe ser solicitada de forma presencial en las oficinas de expedición del DNIe. Esto es aplicable tanto a la renovación como a la expedición de duplicados.\n",
       "\n",
       "2. **Variación de datos**: En caso de que haya habido una variación en los datos que figuran en el DNI, se deberá aportar la documentación necesaria para acreditar dicha variación.\n",
       "\n",
       "3. **Extravío, sustracción, destrucción o deterioro**: Si el DNI se ha perdido, ha sido robado, destruido o deteriorado, su titular está obligado a solicitar un duplicado de forma inmediata.\n",
       "\n",
       "4. **Renovación periódica**: Transcurrido el período de validez del soporte físico del DNI, se debe proceder a su renovación. La renovación se llevará a cabo mediante la presencia física del titular en las oficinas de expedición del DNIe. \n",
       "\n",
       "5. **Certificados electrónicos**: La renovación o expedición de duplicados del DNI implicará la revocación de los certificados vigentes y la expedición de nuevos certificados electrónicos. \n",
       "\n",
       "6. **Puntos de Actualización del DNIe**: Si no ha transcurrido más de 5 años desde la identificación inicial del ciudadano, se podrá solicitar la expedición de nuevos certificados reconocidos a través de los Puntos de Actualización del DNIe, previa autenticación mediante la tarjeta y las plantillas biométricas. Si no fuera posible obtener la impresión dactilar de alguno de los dedos, el ciudadano deberá solicitar la renovación en un puesto de expedición atendido por un funcionario.\n",
       "\n",
       "Es importante tener en cuenta que, en caso de solicitar un duplicado del DNI dentro de los últimos 90 días de su vigencia, se expedirá con la misma validez que si se tratara de una renovación. Además, si se dispone de un documento anterior, se procederá a su retirada para su inutilización física una vez inutilizado.\n",
       "\n",
       "La fecha de entrada en vigor del nuevo DNI será el instante en que haya sido generado y tendrá una validez de 30 meses, sin superar el periodo de validez del soporte físico. Los certificados vigentes hasta el momento serán eliminados de la tarjeta sin solicitar su revocación.\n",
       "\n",
       "Los documentos que sirven de referencia para esta respuesta son el Real Decreto 1553/2005 y la pregunta proporcionada, la cual especifica los procedimientos y condiciones para la renovación del DNI en España."
      ],
      "text/plain": [
       "<IPython.core.display.Markdown object>"
      ]
     },
     "metadata": {},
     "output_type": "display_data"
    }
   ],
   "source": [
    "response = qe_adm.query(\"¿Cuáles son los requisitos para renovar el DNI en España?\")\n",
    "display_response(response)"
   ]
  }
 ],
 "metadata": {
  "kernelspec": {
   "display_name": "Python 3",
   "language": "python",
   "name": "python3"
  },
  "language_info": {
   "codemirror_mode": {
    "name": "ipython",
    "version": 3
   },
   "file_extension": ".py",
   "mimetype": "text/x-python",
   "name": "python",
   "nbconvert_exporter": "python",
   "pygments_lexer": "ipython3",
   "version": "3.12.2"
  }
 },
 "nbformat": 4,
 "nbformat_minor": 2
}
